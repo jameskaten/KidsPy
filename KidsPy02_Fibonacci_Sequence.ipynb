{
 "cells": [
  {
   "attachments": {},
   "cell_type": "markdown",
   "metadata": {},
   "source": [
    "## Fibonacci Sequence\n",
    "\n",
    "### Where can we use the fibonacci sequence? \n",
    "\n",
    "The fibonacci sequence has various applications in mathematics, computer science, and other fields. Here are some area whre the Fibonacci sequence is used: \n",
    "\n",
    "1. Mathematics:\n",
    "* Fibonacci numbers appear in various mathematical concepts and can be used to solve certain mathematical problems. \n",
    "* They are used in number theory and combinatorics. \n",
    "\n",
    "2. Computer Science:\n",
    "* Fibonacci numbers are used in algorithms and data structures, such as dynamic programming and memoization techniques.\n",
    "* They are often used to demonstrate recursion and iterative algorithm design. \n",
    "* Fibonacci heaps, a type of data structure, are used in some algorithms for efficient graph operations. \n",
    "\n",
    "3. Financial Analysis:\n",
    "* Fibonacci retracement levels are used in technical analysis to identify potential support and resistance levels in financial markets. \n",
    "* The sequence is sometimes applied in predicting stock price movements and other financial analyses. \n",
    "\n",
    "4. Art and Design: \n",
    "* The Fibonacci sequence and the Golden Ratio derived from it are used in art and design for aesthetically pleasing proportions and compositions. \n",
    "* They are employed in architecture, graphic design, and other creative fields.\n",
    "\n",
    "5. Biology:\n",
    "* Fibonacci numbers appear in nature, such as in the arrangement of leaves, petals, and seed in plants. \n",
    "* They can be used in modeling biological growth and patterns. \n",
    "\n",
    "6. Puzzles and Recreational Mathematics:\n",
    "* Fibonacci numbers often appear in puzzles, recreational mathematics, and games. \n",
    "* They can be used in constructing puzzlesor a basis for mathematical games. \n",
    "\n",
    "7. Coding Exercise:\n",
    "* Fibonacci sequence generation is a common coding exercise used in programming interviews and educational contexts to teach algorithmic thinking. \n",
    "\n",
    "8. Research and Exploration: \n",
    "* Fibonacci numbers and related mathematical concepts are used in various research areas, including cryptography and data compression."
   ]
  },
  {
   "cell_type": "code",
   "execution_count": 4,
   "metadata": {},
   "outputs": [
    {
     "name": "stdout",
     "output_type": "stream",
     "text": [
      "[0, 1, 1, 2, 3, 5, 8, 13, 21, 34, 55, 89, 144, 233, 377, 610, 987, 1597, 2584, 4181]\n"
     ]
    }
   ],
   "source": [
    "def fibonacci_sequence(n): \n",
    "    sequence = [0, 1] \n",
    "    for i in range(2, n): \n",
    "        next_number = sequence[i-1] + sequence[i-2] \n",
    "        sequence.append(next_number) \n",
    "    return sequence \n",
    "\n",
    "def main(): \n",
    "    n = 20 # Change this to the desired length of the sequence \n",
    "    fib_sequence = fibonacci_sequence(n) \n",
    "    print(fib_sequence) \n",
    "    \n",
    "if __name__ == \"__main__\": \n",
    "    main()"
   ]
  },
  {
   "cell_type": "code",
   "execution_count": null,
   "metadata": {},
   "outputs": [],
   "source": []
  }
 ],
 "metadata": {
  "kernelspec": {
   "display_name": "Python 3",
   "language": "python",
   "name": "python3"
  },
  "language_info": {
   "codemirror_mode": {
    "name": "ipython",
    "version": 3
   },
   "file_extension": ".py",
   "mimetype": "text/x-python",
   "name": "python",
   "nbconvert_exporter": "python",
   "pygments_lexer": "ipython3",
   "version": "3.6.2"
  },
  "orig_nbformat": 4
 },
 "nbformat": 4,
 "nbformat_minor": 2
}
