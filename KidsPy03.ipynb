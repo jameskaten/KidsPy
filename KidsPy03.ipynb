{
 "cells": [
  {
   "attachments": {},
   "cell_type": "markdown",
   "metadata": {},
   "source": [
    "# Kidspy_03\n",
    "## EX11 PP102 Functions\n"
   ]
  },
  {
   "cell_type": "code",
   "execution_count": 3,
   "metadata": {},
   "outputs": [
    {
     "name": "stdout",
     "output_type": "stream",
     "text": [
      "Hello Python!\n",
      "Hello Python!\n",
      "Hello Python!\n"
     ]
    }
   ],
   "source": [
    "def hello():\n",
    "    print(\"Hello Python!\")\n",
    "    \n",
    "hello()\n",
    "hello()\n",
    "hello()"
   ]
  },
  {
   "cell_type": "code",
   "execution_count": 6,
   "metadata": {},
   "outputs": [
    {
     "name": "stdout",
     "output_type": "stream",
     "text": [
      "Hello Angela\n",
      "Hello Chris\n",
      "Hello JiJi\n"
     ]
    }
   ],
   "source": [
    "def hello2(name):\n",
    "    print(\"Hello\", name)\n",
    "    \n",
    "hello2(\"Angela\")\n",
    "hello2(\"Chris\")\n",
    "hello2(\"JiJi\")"
   ]
  },
  {
   "cell_type": "code",
   "execution_count": 7,
   "metadata": {},
   "outputs": [
    {
     "name": "stdout",
     "output_type": "stream",
     "text": [
      "4 16\n",
      "6.0\n"
     ]
    }
   ],
   "source": [
    "def square(a):\n",
    "    c = a*a\n",
    "    return c\n",
    "\n",
    "def triangle(a, h):\n",
    "    c = a*h/2\n",
    "    return c\n",
    "\n",
    "s1 = 4\n",
    "s2 = square(s1)\n",
    "print(s1, s2)\n",
    "\n",
    "print(triangle(3, 4))"
   ]
  },
  {
   "attachments": {},
   "cell_type": "markdown",
   "metadata": {},
   "source": [
    "## Chapter12 pp109 Function2"
   ]
  },
  {
   "cell_type": "code",
   "execution_count": 8,
   "metadata": {},
   "outputs": [
    {
     "name": "stdout",
     "output_type": "stream",
     "text": [
      "55\n",
      "5050\n"
     ]
    }
   ],
   "source": [
    "def sum_func(n):\n",
    "    s = 0\n",
    "    for x in range(1, n+1):\n",
    "        s = s+x\n",
    "    return s\n",
    "\n",
    "print(sum_func(10))\n",
    "print(sum_func(100))"
   ]
  },
  {
   "attachments": {},
   "cell_type": "markdown",
   "metadata": {},
   "source": [
    "## Ex 12-2 pp111 Factorial"
   ]
  },
  {
   "cell_type": "code",
   "execution_count": 9,
   "metadata": {},
   "outputs": [
    {
     "name": "stdout",
     "output_type": "stream",
     "text": [
      "120\n",
      "3628800\n"
     ]
    }
   ],
   "source": [
    "def factorial(n):\n",
    "    fact = 1\n",
    "    for x in range(1, n+1):\n",
    "        fact = fact*x\n",
    "    return fact\n",
    "\n",
    "print(factorial(5))\n",
    "print(factorial(10))"
   ]
  },
  {
   "attachments": {},
   "cell_type": "markdown",
   "metadata": {},
   "source": [
    "## Ex12-3 pp113 Polygon"
   ]
  },
  {
   "cell_type": "code",
   "execution_count": 10,
   "metadata": {},
   "outputs": [
    {
     "ename": "",
     "evalue": "",
     "output_type": "error",
     "traceback": [
      "\u001b[1;31mThe Kernel crashed while executing code in the the current cell or a previous cell. Please review the code in the cell(s) to identify a possible cause of the failure. Click <a href='https://aka.ms/vscodeJupyterKernelCrash'>here</a> for more info. View Jupyter <a href='command:jupyter.viewOutput'>log</a> for further details."
     ]
    }
   ],
   "source": [
    "import turtle as t\n",
    "\n",
    "def polygon(n):\n",
    "    for x in range(n):\n",
    "        t.forward(50)\n",
    "        t.left(360/n)\n",
    "        \n",
    "def polygon2(n, a):\n",
    "    for x in range(n):\n",
    "        t.forward(a)\n",
    "        t.left(360/n)\n",
    "        \n",
    "polygon(3)\n",
    "polygon(5)\n",
    "\n",
    "t.up()\n",
    "t.forward(100)\n",
    "t.down()\n",
    "\n",
    "polygon2(3, 75)\n",
    "polygon2(5, 100)\n"
   ]
  },
  {
   "attachments": {},
   "cell_type": "markdown",
   "metadata": {},
   "source": [
    "## Chap13 Turtle Graphics\n",
    "\n",
    "* t.pos(): position information \n",
    "* a = t.ycor(): find y coordinate\n",
    "* t.goto(100, 50): send the turtle at the position of (100, 50)\n",
    "* t.sety(50): move the y-axis to 50\n",
    "* d = t.distance(100, 100): find the distanct from the current position to (100, 100)\n",
    "* ang = t.heading(): find the angle\n",
    "* ang = t.towards(10, 10): find the angle to the position of (10, 10)\n",
    "* t.setheading(90): change the direction \n",
    "* t.home(): moving to home position \n",
    "* t.onkeypress(f, \"Up\"): key function \n",
    "* t.onscreenclick(t.goto): mouse click -> action \n",
    "* t.ontimer(f, 1000): time setting \n",
    "* t.listen(): turtle graphic focus\n",
    "* t.title(\"welcome\"): title \n",
    "* t.write(\"Hello\", False, \"center\", (\"\", 20)): \n"
   ]
  },
  {
   "cell_type": "code",
   "execution_count": 1,
   "metadata": {},
   "outputs": [
    {
     "ename": "",
     "evalue": "",
     "output_type": "error",
     "traceback": [
      "\u001b[1;31mThe Kernel crashed while executing code in the the current cell or a previous cell. Please review the code in the cell(s) to identify a possible cause of the failure. Click <a href='https://aka.ms/vscodeJupyterKernelCrash'>here</a> for more info. View Jupyter <a href='command:jupyter.viewOutput'>log</a> for further details."
     ]
    }
   ],
   "source": [
    "import turtle as t\n",
    "\n",
    "t.bgcolor(\"black\")      # background color\n",
    "t.speed(0)              # speed\n",
    "\n",
    "for x in range(200):\n",
    "    if x % 3 == 0:\n",
    "        t.color(\"red\")\n",
    "        \n",
    "    if x % 3 == 1:\n",
    "        t.color(\"yellow\")\n",
    "        \n",
    "    if x % 3 == 2:\n",
    "        t.color(\"blue\")\n",
    "    t.forward(x * 2)    # move forward\n",
    "    t.left(119)         # rotate left 119deg"
   ]
  },
  {
   "cell_type": "markdown",
   "metadata": {},
   "source": [
    "# p123 13-2\n",
    "## Keyboard controlled turtle"
   ]
  },
  {
   "cell_type": "code",
   "execution_count": 4,
   "metadata": {},
   "outputs": [
    {
     "ename": "",
     "evalue": "",
     "output_type": "error",
     "traceback": [
      "\u001b[1;31mThe Kernel crashed while executing code in the the current cell or a previous cell. Please review the code in the cell(s) to identify a possible cause of the failure. Click <a href='https://aka.ms/vscodeJupyterKernelCrash'>here</a> for more info. View Jupyter <a href='command:jupyter.viewOutput'>log</a> for further details."
     ]
    }
   ],
   "source": [
    "import turtle as t\n",
    "\n",
    "def turn_right():\n",
    "    t.setheading(0)\n",
    "    t.forward(10)\n",
    "    \n",
    "def turn_up(): \n",
    "    t.setheading(90)\n",
    "    t.forward(10)\n",
    "    \n",
    "def turn_left():\n",
    "    t.setheading(180)\n",
    "    t.forward(10)\n",
    "    \n",
    "def turn_down():\n",
    "    t.setheading(270)\n",
    "    t.forward(10)\n",
    "    \n",
    "def blank():\n",
    "    t.clear()\n",
    "    \n",
    "t.shape(\"turtle\")\n",
    "# t.speed(0)\n",
    "# t.onkeypress(turn_right, \"Right\")\n",
    "# t.onkeypress(turn_up, \"Up\")\n",
    "# t.onkeypress(turn_left, \"Left\")\n",
    "# t.onkeypress(turn_down, \"Down\")\n",
    "# t.onkeypress(blank, \"Escape\")\n",
    "# t.listen()"
   ]
  },
  {
   "cell_type": "code",
   "execution_count": 1,
   "metadata": {},
   "outputs": [
    {
     "ename": "",
     "evalue": "",
     "output_type": "error",
     "traceback": [
      "\u001b[1;31mThe Kernel crashed while executing code in the the current cell or a previous cell. Please review the code in the cell(s) to identify a possible cause of the failure. Click <a href='https://aka.ms/vscodeJupyterKernelCrash'>here</a> for more info. View Jupyter <a href='command:jupyter.viewOutput'>log</a> for further details."
     ]
    }
   ],
   "source": [
    "import turtle as t\n",
    "\n",
    "t.speed(0)\n",
    "t.pensize(2)\n",
    "t.hideturtle()\n",
    "t.onscreenclick(t.goto)"
   ]
  },
  {
   "cell_type": "code",
   "execution_count": null,
   "metadata": {},
   "outputs": [],
   "source": []
  }
 ],
 "metadata": {
  "kernelspec": {
   "display_name": "Python 3",
   "language": "python",
   "name": "python3"
  },
  "language_info": {
   "codemirror_mode": {
    "name": "ipython",
    "version": 3
   },
   "file_extension": ".py",
   "mimetype": "text/x-python",
   "name": "python",
   "nbconvert_exporter": "python",
   "pygments_lexer": "ipython3",
   "version": "3.6.2"
  },
  "orig_nbformat": 4
 },
 "nbformat": 4,
 "nbformat_minor": 2
}
