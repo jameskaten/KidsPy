{
 "cells": [
  {
   "attachments": {},
   "cell_type": "markdown",
   "metadata": {},
   "source": [
    "## KidsPy_01\n",
    "\n",
    "Try this at the cell"
   ]
  },
  {
   "cell_type": "code",
   "execution_count": 4,
   "metadata": {},
   "outputs": [
    {
     "data": {
      "text/plain": [
       "False"
      ]
     },
     "execution_count": 4,
     "metadata": {},
     "output_type": "execute_result"
    }
   ],
   "source": [
    "1+1==2\n",
    "3-1==1\n",
    "3==3\n",
    "3!=3\n",
    "7>=3\n",
    "\"abc\"==\"abc\"\n",
    "\"abc\"==\"ABC\""
   ]
  },
  {
   "attachments": {},
   "cell_type": "markdown",
   "metadata": {},
   "source": [
    "## Ex8-2, pp84 if-else"
   ]
  },
  {
   "cell_type": "code",
   "execution_count": 5,
   "metadata": {},
   "outputs": [
    {
     "name": "stdout",
     "output_type": "stream",
     "text": [
      "B\n",
      "D\n"
     ]
    }
   ],
   "source": [
    "a=3\n",
    "\n",
    "if a==2:\n",
    "    print(\"A\")\n",
    "    \n",
    "if a==3:\n",
    "    print(\"B\")\n",
    "    \n",
    "if a==4:\n",
    "    print(\"C\")\n",
    "else:\n",
    "    print(\"D\")"
   ]
  },
  {
   "attachments": {},
   "cell_type": "markdown",
   "metadata": {},
   "source": [
    "### Ex08C if-else"
   ]
  },
  {
   "cell_type": "code",
   "execution_count": 1,
   "metadata": {},
   "outputs": [],
   "source": [
    "x = input(\"12+23 = \")\n",
    "a = int(x)\n",
    "\n",
    "if a == 12+23:\n",
    "    print(\"Genius\")\n",
    "else:\n",
    "    print(\"fool\")\n",
    "    "
   ]
  },
  {
   "attachments": {},
   "cell_type": "markdown",
   "metadata": {},
   "source": [
    "## Ex09 pp88 Random module"
   ]
  },
  {
   "cell_type": "code",
   "execution_count": 1,
   "metadata": {},
   "outputs": [
    {
     "ename": "",
     "evalue": "",
     "output_type": "error",
     "traceback": [
      "\u001b[1;31mThe Kernel crashed while executing code in the the current cell or a previous cell. Please review the code in the cell(s) to identify a possible cause of the failure. Click <a href='https://aka.ms/vscodeJupyterKernelCrash'>here</a> for more info. View Jupyter <a href='command:jupyter.viewOutput'>log</a> for further details."
     ]
    }
   ],
   "source": [
    "import turtle as t\n",
    "import random\n",
    "\n",
    "t.shape(\"turtle\")\n",
    "t.speed(0)\n",
    "\n",
    "for x in range(500):\n",
    "    a = random.randint(1, 360)   # Lesson: what is random.randint? \n",
    "    t.setheading(a)     # angle \n",
    "    t.forward(10)       # distance\n"
   ]
  },
  {
   "attachments": {},
   "cell_type": "markdown",
   "metadata": {},
   "source": [
    "## Ex09-2 pp91 random.randint"
   ]
  },
  {
   "cell_type": "code",
   "execution_count": 1,
   "metadata": {},
   "outputs": [],
   "source": [
    "import turtle as t\n",
    "import random\n",
    "\n",
    "t.shape(\"turtle\")\n",
    "t.speed(0)\n",
    "\n",
    "for x in range(500):\n",
    "    a = random.randint(1, 360)   # Lesson: what is random.randint? \n",
    "    t.setheading(a)     # angle \n",
    "    b = random.randint(1, 20)\n",
    "    t.forward(b)       # distance"
   ]
  },
  {
   "attachments": {},
   "cell_type": "markdown",
   "metadata": {},
   "source": [
    "## Ex09-3 pp93 Sum with randint"
   ]
  },
  {
   "cell_type": "code",
   "execution_count": 1,
   "metadata": {},
   "outputs": [
    {
     "name": "stdout",
     "output_type": "stream",
     "text": [
      "20 + 15 =\n"
     ]
    }
   ],
   "source": [
    "import random\n",
    "\n",
    "a = random.randint(1, 30)\n",
    "b = random.randint(1, 30)\n",
    "\n",
    "print(a, \"+\", b, \"=\")\n",
    "x = input()\n",
    "c = int(x)\n",
    "\n",
    "if a+b == c:\n",
    "    print(\"Genius!\")\n",
    "else:\n",
    "    print(\"fool!\")"
   ]
  },
  {
   "attachments": {},
   "cell_type": "markdown",
   "metadata": {},
   "source": [
    "## Ex 10 pp95 While statement"
   ]
  },
  {
   "cell_type": "code",
   "execution_count": 1,
   "metadata": {},
   "outputs": [
    {
     "name": "stdout",
     "output_type": "stream",
     "text": [
      "[1-10]\n",
      "1\n",
      "2\n",
      "3\n",
      "4\n",
      "5\n",
      "6\n",
      "7\n",
      "8\n",
      "9\n",
      "10\n"
     ]
    }
   ],
   "source": [
    "print(\"[1-10]\")\n",
    "x = 1\n",
    "while x <= 10:\n",
    "    print(x)\n",
    "    x = x+1"
   ]
  },
  {
   "attachments": {},
   "cell_type": "markdown",
   "metadata": {},
   "source": [
    "## Ex 10-2 pp97 Sum 1-10 "
   ]
  },
  {
   "cell_type": "code",
   "execution_count": 2,
   "metadata": {},
   "outputs": [
    {
     "name": "stdout",
     "output_type": "stream",
     "text": [
      "x:  1  sum: 1\n",
      "x:  2  sum: 3\n",
      "x:  3  sum: 6\n",
      "x:  4  sum: 10\n",
      "x:  5  sum: 15\n",
      "x:  6  sum: 21\n",
      "x:  7  sum: 28\n",
      "x:  8  sum: 36\n",
      "x:  9  sum: 45\n",
      "x:  10  sum: 55\n"
     ]
    }
   ],
   "source": [
    "s = 0\n",
    "x = 1\n",
    "while x <= 10:\n",
    "    s = s+x\n",
    "    print(\"x: \", x, \" sum:\", s)\n",
    "    x = x+1"
   ]
  },
  {
   "cell_type": "code",
   "execution_count": null,
   "metadata": {},
   "outputs": [],
   "source": []
  }
 ],
 "metadata": {
  "kernelspec": {
   "display_name": "Python 3",
   "language": "python",
   "name": "python3"
  },
  "language_info": {
   "codemirror_mode": {
    "name": "ipython",
    "version": 3
   },
   "file_extension": ".py",
   "mimetype": "text/x-python",
   "name": "python",
   "nbconvert_exporter": "python",
   "pygments_lexer": "ipython3",
   "version": "3.6.2"
  },
  "orig_nbformat": 4
 },
 "nbformat": 4,
 "nbformat_minor": 2
}
